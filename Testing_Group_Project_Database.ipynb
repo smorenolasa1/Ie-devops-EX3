{
 "cells": [
  {
   "cell_type": "markdown",
   "id": "018a21a3-30c1-4730-8a07-9d076a51d21b",
   "metadata": {},
   "source": [
    "# Testing Group Project Database"
   ]
  },
  {
   "cell_type": "code",
<<<<<<< HEAD
   "execution_count": 5,
=======
   "execution_count": 1,
>>>>>>> main
   "id": "85460dff-ff83-4bf5-8133-e788753fd16a",
   "metadata": {},
   "outputs": [
    {
     "name": "stdout",
     "output_type": "stream",
     "text": [
      "=== Testing connection to the Database\n",
      "SELECT now();\n",
<<<<<<< HEAD
      "[(datetime.datetime(2023, 12, 1, 23, 48, 6),)]\n",
=======
      "[(datetime.datetime(2023, 11, 30, 15, 41, 7),)]\n",
>>>>>>> main
      "=== Showing the Databases you have access to. This should include CC_8\n",
      "show databases;\n",
      "[('CC_8',), ('information_schema',), ('performance_schema',)]\n",
      "=== Dropping table event to leave a clean schema\n",
<<<<<<< HEAD
      "DROP TABLE attendance;\n",
      "=== Dropping table event to leave a clean schema\n",
      "DROP TABLE session;\n",
      "=== Dropping table event to leave a clean schema\n",
      "DROP TABLE course;\n",
      "=== Dropping table event to leave a clean schema\n",
      "DROP TABLE student;\n",
      "=== Dropping table event to leave a clean schema\n",
      "DROP TABLE professor;\n"
=======
      "DROP TABLE Sessions;\n"
>>>>>>> main
     ]
    }
   ],
   "source": [
    "import mysql.connector\n",
    "\n",
    "host='dockerlab.westeurope.cloudapp.azure.com'\n",
    "username='CC_8'\n",
    "password='s8SqfUTpyG7fWRkVpb75BnKbJl-ew5u6J2SZx7vfK48'\n",
    "database='CC_8'\n",
    "\n",
    "\n",
    "cnx = mysql.connector.connect(user=username, password=password,\n",
    "                                host=host, database=database)\n",
    "\n",
    "cursor = cnx.cursor()\n",
    "\n",
    "print(\"=== Testing connection to the Database\")\n",
    "sql_str='SELECT now();'\n",
    "print(sql_str)\n",
    "rs=cursor.execute(sql_str)\n",
    "rs=cursor.fetchall()\n",
    "print(rs)\n",
    "\n",
    "\n",
    "print(f\"=== Showing the Databases you have access to. This should include {database}\")\n",
    "sql_str='show databases;'\n",
    "print(sql_str)\n",
    "rs=cursor.execute(sql_str)\n",
    "rs=cursor.fetchall()\n",
    "print(rs)\n",
    "\n",
<<<<<<< HEAD
    "cursor.close() # Always close a cursor when no longer required\n",
    "cnx.close() # always close your database connections before the program exits"
   ]
  },
  {
   "cell_type": "markdown",
   "metadata": {},
   "source": [
    "# Select from table"
   ]
  },
  {
   "cell_type": "code",
   "execution_count": 7,
   "metadata": {},
   "outputs": [
    {
     "name": "stdout",
     "output_type": "stream",
     "text": [
      "SELECT * FROM attendance;\n",
      "[('Discrete Math', 1, 3, 1), ('Discrete Math', 1, 3, 4), ('Discrete Math', 1, 3, 6)]\n"
     ]
    }
   ],
   "source": [
    "import mysql.connector\n",
    "\n",
    "host='dockerlab.westeurope.cloudapp.azure.com'\n",
    "username='CC_8'\n",
    "password='s8SqfUTpyG7fWRkVpb75BnKbJl-ew5u6J2SZx7vfK48'\n",
    "database='CC_8'\n",
    "\n",
    "\n",
    "cnx = mysql.connector.connect(user=username, password=password,\n",
    "                                host=host, database=database)\n",
    "\n",
    "cursor = cnx.cursor()\n",
    "\n",
    "table = \"attendance\"\n",
    "\n",
    "sql_str=f'SELECT session_course_name, session_number FROM {table};'\n",
    "print(sql_str)\n",
    "rs=cursor.execute(sql_str)\n",
    "rs=cursor.fetchall()\n",
    "print(rs)\n",
    "\n",
    "cursor.close() # Always close a cursor when no longer required\n",
    "cnx.close() # always close your database connections before the program exits"
   ]
  },
  {
   "cell_type": "markdown",
   "metadata": {},
   "source": [
    "# Show tables"
   ]
  },
  {
   "cell_type": "code",
   "execution_count": 5,
   "metadata": {},
   "outputs": [
    {
     "name": "stdout",
     "output_type": "stream",
     "text": [
      "[('attendance',), ('attendance_code',), ('course',), ('professor',), ('session',), ('student',)]\n"
     ]
    }
   ],
   "source": [
    "import mysql.connector\n",
    "\n",
    "host='dockerlab.westeurope.cloudapp.azure.com'\n",
    "username='CC_8'\n",
    "password='s8SqfUTpyG7fWRkVpb75BnKbJl-ew5u6J2SZx7vfK48'\n",
    "database='CC_8'\n",
    "\n",
    "\n",
    "cnx = mysql.connector.connect(user=username, password=password,\n",
    "                                host=host, database=database)\n",
    "\n",
    "cursor = cnx.cursor()\n",
    "\n",
    "\n",
    "sql_str='show tables;'\n",
    "rs=cursor.execute(sql_str)\n",
    "rs=cursor.fetchall()\n",
    "print(rs)\n",
    "\n",
    "\n",
    "cursor.close() # Always close a cursor when no longer required\n",
    "cnx.close() # always close your database connections before the program exits"
   ]
  },
  {
   "cell_type": "markdown",
   "metadata": {},
   "source": [
    "# Drop tables"
   ]
  },
  {
   "cell_type": "code",
   "execution_count": 6,
   "metadata": {},
   "outputs": [
    {
     "name": "stdout",
     "output_type": "stream",
     "text": [
      "=== Dropping table event to leave a clean schema\n",
      "DROP TABLE attendance;\n",
      "=== Dropping table event to leave a clean schema\n",
      "DROP TABLE attendance_code;\n",
      "=== Dropping table event to leave a clean schema\n",
      "DROP TABLE session;\n",
      "=== Dropping table event to leave a clean schema\n",
      "DROP TABLE course;\n",
      "=== Dropping table event to leave a clean schema\n",
      "DROP TABLE student;\n",
      "=== Dropping table event to leave a clean schema\n",
      "DROP TABLE professor;\n"
     ]
    }
   ],
   "source": [
    "import mysql.connector\n",
    "\n",
    "host='dockerlab.westeurope.cloudapp.azure.com'\n",
    "username='CC_8'\n",
    "password='s8SqfUTpyG7fWRkVpb75BnKbJl-ew5u6J2SZx7vfK48'\n",
    "database='CC_8'\n",
    "\n",
    "\n",
    "cnx = mysql.connector.connect(user=username, password=password,\n",
    "                                host=host, database=database)\n",
    "\n",
    "cursor = cnx.cursor()\n",
    "\n",
    "print(\"=== Dropping table event to leave a clean schema\")\n",
    "sql_str='DROP TABLE attendance;'\n",
    "print(sql_str)\n",
    "rs=cursor.execute(sql_str)\n",
    "print(\"=== Dropping table event to leave a clean schema\")\n",
    "sql_str='DROP TABLE attendance_code;'\n",
    "print(sql_str)\n",
    "rs=cursor.execute(sql_str)\n",
    "print(\"=== Dropping table event to leave a clean schema\")\n",
    "sql_str='DROP TABLE session;'\n",
    "print(sql_str)\n",
    "rs=cursor.execute(sql_str)\n",
    "print(\"=== Dropping table event to leave a clean schema\")\n",
    "sql_str='DROP TABLE course;'\n",
    "print(sql_str)\n",
    "rs=cursor.execute(sql_str)\n",
    "print(\"=== Dropping table event to leave a clean schema\")\n",
    "sql_str='DROP TABLE student;'\n",
    "print(sql_str)\n",
    "rs=cursor.execute(sql_str)\n",
    "print(\"=== Dropping table event to leave a clean schema\")\n",
    "sql_str='DROP TABLE professor;'\n",
    "print(sql_str)\n",
    "rs=cursor.execute(sql_str)\n",
    "\n",
=======
    "\n",
    "# print(\"=== Create a sample table: event\")\n",
    "# sql_str='''CREATE TABLE IF NOT EXISTS event (\n",
    "#     id INT  NOT NULL AUTO_INCREMENT, \n",
    "#     name VARCHAR(20) , \n",
    "#     state VARCHAR(20),\n",
    "#     datetime DATETIME NOT NULL,\n",
    "#     PRIMARY KEY(id)\n",
    "# );'''\n",
    "# print(sql_str)\n",
    "\n",
    "# cursor.execute(sql_str)\n",
    "\n",
    "# sql_str='show tables;'\n",
    "# print(sql_str)\n",
    "# rs=cursor.execute(sql_str)\n",
    "# rs=cursor.fetchall()\n",
    "# print(rs)\n",
    "\n",
    "# print(\"=== Inserting a record into event\")\n",
    "# sql_str=f\"INSERT INTO event(name, state, datetime) VALUES ('test','live',NOW())\"\n",
    "# print(sql_str)\n",
    "# cursor.execute(sql_str)\n",
    "# cnx.commit() # commit is required when you run INSERT statement, to persist new data to tables\n",
    "\n",
    "# sql_str='SELECT course_name, semester FROM Courses;'\n",
    "# print(sql_str)\n",
    "# rs=cursor.execute(sql_str)\n",
    "# rs=cursor.fetchall()\n",
    "# print(rs)\n",
    "\n",
    "# print(\"=== Dropping table event to leave a clean schema\")\n",
    "# sql_str='DROP TABLE Attendance;'\n",
    "# print(sql_str)\n",
    "# rs=cursor.execute(sql_str)\n",
    "print(\"=== Dropping table event to leave a clean schema\")\n",
    "sql_str='DROP TABLE Sessions;'\n",
    "print(sql_str)\n",
    "rs=cursor.execute(sql_str)\n",
    "print(\"=== Dropping table event to leave a clean schema\")\n",
    "sql_str='DROP TABLE Courses;'\n",
    "print(sql_str)\n",
    "rs=cursor.execute(sql_str)\n",
    "print(\"=== Dropping table event to leave a clean schema\")\n",
    "sql_str='DROP TABLE Students;'\n",
    "print(sql_str)\n",
    "rs=cursor.execute(sql_str)\n",
    "print(\"=== Dropping table event to leave a clean schema\")\n",
    "sql_str='DROP TABLE Professors;'\n",
    "print(sql_str)\n",
    "rs=cursor.execute(sql_str)\n",
    "\n",
    "# sql_str='show tables;'\n",
    "# rs=cursor.execute(sql_str)\n",
    "# rs=cursor.fetchall()\n",
    "# print(rs)\n",
    "\n",
    "\n",
>>>>>>> main
    "cursor.close() # Always close a cursor when no longer required\n",
    "cnx.close() # always close your database connections before the program exits"
   ]
  },
  {
   "cell_type": "code",
   "execution_count": null,
   "metadata": {},
   "outputs": [],
   "source": []
  }
 ],
 "metadata": {
  "kernelspec": {
   "display_name": "Python 3 (ipykernel)",
   "language": "python",
   "name": "python3"
  },
  "language_info": {
   "codemirror_mode": {
    "name": "ipython",
    "version": 3
   },
   "file_extension": ".py",
   "mimetype": "text/x-python",
   "name": "python",
   "nbconvert_exporter": "python",
   "pygments_lexer": "ipython3",
   "version": "3.11.6"
  }
 },
 "nbformat": 4,
 "nbformat_minor": 5
}
